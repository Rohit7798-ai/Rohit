{
  "nbformat": 4,
  "nbformat_minor": 0,
  "metadata": {
    "colab": {
      "provenance": [],
      "authorship_tag": "ABX9TyNMPQmaXcVA8nDHDHSWpzzm",
      "include_colab_link": true
    },
    "kernelspec": {
      "name": "python3",
      "display_name": "Python 3"
    },
    "language_info": {
      "name": "python"
    }
  },
  "cells": [
    {
      "cell_type": "markdown",
      "metadata": {
        "id": "view-in-github",
        "colab_type": "text"
      },
      "source": [
        "<a href=\"https://colab.research.google.com/github/Rohit7798-ai/Rohit/blob/main/Python_Series.ipynb\" target=\"_parent\"><img src=\"https://colab.research.google.com/assets/colab-badge.svg\" alt=\"Open In Colab\"/></a>"
      ]
    },
    {
      "cell_type": "code",
      "source": [
        "count = 1\n",
        "while count <= 5:\n",
        "  print(\"Hello\", count)\n",
        "  count += 1\n"
      ],
      "metadata": {
        "colab": {
          "base_uri": "https://localhost:8080/"
        },
        "id": "Sf6NqlD7SIk0",
        "outputId": "ab7c1cf8-29ae-4490-c271-c09d41272259"
      },
      "execution_count": null,
      "outputs": [
        {
          "output_type": "stream",
          "name": "stdout",
          "text": [
            "Hello 1\n",
            "Hello 2\n",
            "Hello 3\n",
            "Hello 4\n",
            "Hello 5\n"
          ]
        }
      ]
    },
    {
      "cell_type": "code",
      "source": [
        "i = 5\n",
        "while i >= 1:\n",
        "  print(i)\n",
        "  i -= 1\n"
      ],
      "metadata": {
        "colab": {
          "base_uri": "https://localhost:8080/"
        },
        "id": "5-BjiyCFVlU0",
        "outputId": "89dd7247-dcd8-4964-f538-2b784a3fef35"
      },
      "execution_count": null,
      "outputs": [
        {
          "output_type": "stream",
          "name": "stdout",
          "text": [
            "5\n",
            "4\n",
            "3\n",
            "2\n",
            "1\n"
          ]
        }
      ]
    },
    {
      "cell_type": "markdown",
      "source": [
        "First practice **problem**"
      ],
      "metadata": {
        "id": "OBHzl3AxXJLE"
      }
    },
    {
      "cell_type": "code",
      "source": [
        "i = 1\n",
        "while i <= 100:\n",
        "  print(i)\n",
        "  i += 1"
      ],
      "metadata": {
        "colab": {
          "base_uri": "https://localhost:8080/"
        },
        "id": "2p8N01K1Wa3x",
        "outputId": "680d88f1-3128-4a2f-bda0-e2621a881210"
      },
      "execution_count": null,
      "outputs": [
        {
          "output_type": "stream",
          "name": "stdout",
          "text": [
            "1\n",
            "2\n",
            "3\n",
            "4\n",
            "5\n",
            "6\n",
            "7\n",
            "8\n",
            "9\n",
            "10\n",
            "11\n",
            "12\n",
            "13\n",
            "14\n",
            "15\n",
            "16\n",
            "17\n",
            "18\n",
            "19\n",
            "20\n",
            "21\n",
            "22\n",
            "23\n",
            "24\n",
            "25\n",
            "26\n",
            "27\n",
            "28\n",
            "29\n",
            "30\n",
            "31\n",
            "32\n",
            "33\n",
            "34\n",
            "35\n",
            "36\n",
            "37\n",
            "38\n",
            "39\n",
            "40\n",
            "41\n",
            "42\n",
            "43\n",
            "44\n",
            "45\n",
            "46\n",
            "47\n",
            "48\n",
            "49\n",
            "50\n",
            "51\n",
            "52\n",
            "53\n",
            "54\n",
            "55\n",
            "56\n",
            "57\n",
            "58\n",
            "59\n",
            "60\n",
            "61\n",
            "62\n",
            "63\n",
            "64\n",
            "65\n",
            "66\n",
            "67\n",
            "68\n",
            "69\n",
            "70\n",
            "71\n",
            "72\n",
            "73\n",
            "74\n",
            "75\n",
            "76\n",
            "77\n",
            "78\n",
            "79\n",
            "80\n",
            "81\n",
            "82\n",
            "83\n",
            "84\n",
            "85\n",
            "86\n",
            "87\n",
            "88\n",
            "89\n",
            "90\n",
            "91\n",
            "92\n",
            "93\n",
            "94\n",
            "95\n",
            "96\n",
            "97\n",
            "98\n",
            "99\n",
            "100\n"
          ]
        }
      ]
    },
    {
      "cell_type": "markdown",
      "source": [
        "Second Practice **Problem**"
      ],
      "metadata": {
        "id": "WY4rASeLXpK-"
      }
    },
    {
      "cell_type": "code",
      "source": [
        "i = 100\n",
        "while i >= 1:\n",
        "  print(i)\n",
        "  i -= 1"
      ],
      "metadata": {
        "colab": {
          "base_uri": "https://localhost:8080/"
        },
        "id": "2sVsEgPWXXet",
        "outputId": "43e3a295-002b-4b93-f8e5-9c90aa5251a3"
      },
      "execution_count": null,
      "outputs": [
        {
          "output_type": "stream",
          "name": "stdout",
          "text": [
            "100\n",
            "99\n",
            "98\n",
            "97\n",
            "96\n",
            "95\n",
            "94\n",
            "93\n",
            "92\n",
            "91\n",
            "90\n",
            "89\n",
            "88\n",
            "87\n",
            "86\n",
            "85\n",
            "84\n",
            "83\n",
            "82\n",
            "81\n",
            "80\n",
            "79\n",
            "78\n",
            "77\n",
            "76\n",
            "75\n",
            "74\n",
            "73\n",
            "72\n",
            "71\n",
            "70\n",
            "69\n",
            "68\n",
            "67\n",
            "66\n",
            "65\n",
            "64\n",
            "63\n",
            "62\n",
            "61\n",
            "60\n",
            "59\n",
            "58\n",
            "57\n",
            "56\n",
            "55\n",
            "54\n",
            "53\n",
            "52\n",
            "51\n",
            "50\n",
            "49\n",
            "48\n",
            "47\n",
            "46\n",
            "45\n",
            "44\n",
            "43\n",
            "42\n",
            "41\n",
            "40\n",
            "39\n",
            "38\n",
            "37\n",
            "36\n",
            "35\n",
            "34\n",
            "33\n",
            "32\n",
            "31\n",
            "30\n",
            "29\n",
            "28\n",
            "27\n",
            "26\n",
            "25\n",
            "24\n",
            "23\n",
            "22\n",
            "21\n",
            "20\n",
            "19\n",
            "18\n",
            "17\n",
            "16\n",
            "15\n",
            "14\n",
            "13\n",
            "12\n",
            "11\n",
            "10\n",
            "9\n",
            "8\n",
            "7\n",
            "6\n",
            "5\n",
            "4\n",
            "3\n",
            "2\n",
            "1\n"
          ]
        }
      ]
    },
    {
      "cell_type": "markdown",
      "source": [
        "Table Printing **Loop**"
      ],
      "metadata": {
        "id": "3QL2U2BsZWnb"
      }
    },
    {
      "cell_type": "code",
      "source": [
        "n = int(input(\"Enter a number :\"))\n",
        "i = 1\n",
        "while i <= 10:\n",
        "  print(n*i)\n",
        "  i += 1"
      ],
      "metadata": {
        "colab": {
          "base_uri": "https://localhost:8080/"
        },
        "id": "hv3l_DEdXuuG",
        "outputId": "9d2ddcd1-5938-41d7-9bee-f60524e811aa"
      },
      "execution_count": null,
      "outputs": [
        {
          "output_type": "stream",
          "name": "stdout",
          "text": [
            "Enter a number :2\n",
            "2\n",
            "4\n",
            "6\n",
            "8\n",
            "10\n",
            "12\n",
            "14\n",
            "16\n",
            "18\n",
            "20\n"
          ]
        }
      ]
    },
    {
      "cell_type": "markdown",
      "source": [
        "print List using **Loop**"
      ],
      "metadata": {
        "id": "mhGN_IQ8gusu"
      }
    },
    {
      "cell_type": "code",
      "source": [
        " l = [1,4,9,16,25,36,49,64,81,100]\n",
        " idx = 0\n",
        " while idx <= len(l):\n",
        "  print(idx)\n",
        "  idx += 1\n",
        "\n",
        "\n"
      ],
      "metadata": {
        "colab": {
          "base_uri": "https://localhost:8080/"
        },
        "id": "0AaXJI_TZdJc",
        "outputId": "8f4a0d45-6337-49aa-8d0e-4a83d7aa9fe4"
      },
      "execution_count": null,
      "outputs": [
        {
          "output_type": "stream",
          "name": "stdout",
          "text": [
            "0\n",
            "1\n",
            "2\n",
            "3\n",
            "4\n",
            "5\n",
            "6\n",
            "7\n",
            "8\n",
            "9\n",
            "10\n"
          ]
        }
      ]
    },
    {
      "cell_type": "markdown",
      "source": [],
      "metadata": {
        "id": "CmQfDNTMVNJ4"
      }
    },
    {
      "cell_type": "markdown",
      "source": [
        "Number Searching Using **Loop** (break and Continue)"
      ],
      "metadata": {
        "id": "7swqjIi_R67C"
      }
    },
    {
      "cell_type": "code",
      "source": [
        "nums = (1, 4, 9, 16, 25, 36, 49, 64, 81, 100)\n",
        "x = int(input(\"Enter the number: \"))\n",
        "i = 0\n",
        "\n",
        "while i < len(nums):\n",
        "    if nums[i] == x:\n",
        "        print(\"FOUND\")\n",
        "        break\n",
        "    i += 1\n",
        "else:\n",
        "\n",
        "    print(\"NOT FOUND\")\n"
      ],
      "metadata": {
        "id": "EQGFV1tngy2h",
        "colab": {
          "base_uri": "https://localhost:8080/"
        },
        "outputId": "932cff67-8be7-4136-ff29-06fd6017b7d2"
      },
      "execution_count": null,
      "outputs": [
        {
          "output_type": "stream",
          "name": "stdout",
          "text": [
            "Enter the number: 2\n",
            "NOT FOUND\n"
          ]
        }
      ]
    },
    {
      "cell_type": "code",
      "source": [
        "i = 0\n",
        "while i <= 10:\n",
        "  if (i%2 !=  0):\n",
        "    i += 1\n",
        "    continue\n",
        "  print(i)\n",
        "  i += 1"
      ],
      "metadata": {
        "colab": {
          "base_uri": "https://localhost:8080/"
        },
        "id": "xdUdp856R_ZD",
        "outputId": "3b1fda20-6922-4979-91e6-c731e762f71a"
      },
      "execution_count": null,
      "outputs": [
        {
          "output_type": "stream",
          "name": "stdout",
          "text": [
            "0\n",
            "2\n",
            "4\n",
            "6\n",
            "8\n",
            "10\n"
          ]
        }
      ]
    },
    {
      "cell_type": "markdown",
      "source": [
        "FOR LOOP **STARTING**"
      ],
      "metadata": {
        "id": "vrbZFao2VZZ-"
      }
    },
    {
      "cell_type": "code",
      "source": [
        "str = \"Rohitchavan\"\n",
        "for values in str:\n",
        "\n",
        "  if values == 'h':\n",
        "    print(\"Found\")\n",
        "    break\n",
        "  print(values)\n",
        "else:\n",
        "  print(\"Not Found\")"
      ],
      "metadata": {
        "colab": {
          "base_uri": "https://localhost:8080/"
        },
        "id": "D3nhn-0EVYWn",
        "outputId": "7eefe7db-bf6f-405f-f26f-05ce88206f60"
      },
      "execution_count": null,
      "outputs": [
        {
          "output_type": "stream",
          "name": "stdout",
          "text": [
            "R\n",
            "o\n",
            "Found\n"
          ]
        }
      ]
    },
    {
      "cell_type": "code",
      "source": [
        "nums = [1, 4, 9, 16, 25, 36, 49, 64, 81, 100]\n",
        "for el in nums:\n",
        "  print(el)\n"
      ],
      "metadata": {
        "colab": {
          "base_uri": "https://localhost:8080/"
        },
        "id": "IfPIpCEzbpDI",
        "outputId": "061d5ff9-66b0-4373-f28f-e6229b12fab2"
      },
      "execution_count": null,
      "outputs": [
        {
          "output_type": "stream",
          "name": "stdout",
          "text": [
            "1\n",
            "4\n",
            "9\n",
            "16\n",
            "25\n",
            "36\n",
            "49\n",
            "64\n",
            "81\n",
            "100\n"
          ]
        }
      ]
    },
    {
      "cell_type": "markdown",
      "source": [
        "Number finding using for **loop**"
      ],
      "metadata": {
        "id": "UOkooMkbmXYB"
      }
    },
    {
      "cell_type": "code",
      "source": [
        "nums = (1, 4, 9, 16, 25, 36, 49, 64, 81, 100)\n",
        "x = int(input(\"Enter the number:\"))\n",
        "\n",
        "\n",
        "i = 0\n",
        "for el in nums:\n",
        "  if el == x:\n",
        "    print(\"Number Found At index\", i)\n",
        "    break\n",
        "  i+= 1\n",
        "\n",
        "else:\n",
        "  print(\"Number Not Found\", i )"
      ],
      "metadata": {
        "colab": {
          "base_uri": "https://localhost:8080/"
        },
        "id": "zYwsbtqpiF8I",
        "outputId": "7f7e1aa5-d68f-4490-9b46-64fb6ba50a3b"
      },
      "execution_count": null,
      "outputs": [
        {
          "output_type": "stream",
          "name": "stdout",
          "text": [
            "Enter the number:25\n",
            "Number Found At index 4\n"
          ]
        }
      ]
    },
    {
      "cell_type": "markdown",
      "source": [
        "Range **Prablems**"
      ],
      "metadata": {
        "id": "hOIugdnTtM_G"
      }
    },
    {
      "cell_type": "code",
      "source": [
        "for i in range(0 , 101):\n",
        "  print(i)"
      ],
      "metadata": {
        "colab": {
          "base_uri": "https://localhost:8080/"
        },
        "id": "IaVzu-SKmd2z",
        "outputId": "0d684bc8-48ae-4fb4-b9a7-36dd3089a0fe"
      },
      "execution_count": null,
      "outputs": [
        {
          "output_type": "stream",
          "name": "stdout",
          "text": [
            "0\n",
            "1\n",
            "2\n",
            "3\n",
            "4\n",
            "5\n",
            "6\n",
            "7\n",
            "8\n",
            "9\n",
            "10\n",
            "11\n",
            "12\n",
            "13\n",
            "14\n",
            "15\n",
            "16\n",
            "17\n",
            "18\n",
            "19\n",
            "20\n",
            "21\n",
            "22\n",
            "23\n",
            "24\n",
            "25\n",
            "26\n",
            "27\n",
            "28\n",
            "29\n",
            "30\n",
            "31\n",
            "32\n",
            "33\n",
            "34\n",
            "35\n",
            "36\n",
            "37\n",
            "38\n",
            "39\n",
            "40\n",
            "41\n",
            "42\n",
            "43\n",
            "44\n",
            "45\n",
            "46\n",
            "47\n",
            "48\n",
            "49\n",
            "50\n",
            "51\n",
            "52\n",
            "53\n",
            "54\n",
            "55\n",
            "56\n",
            "57\n",
            "58\n",
            "59\n",
            "60\n",
            "61\n",
            "62\n",
            "63\n",
            "64\n",
            "65\n",
            "66\n",
            "67\n",
            "68\n",
            "69\n",
            "70\n",
            "71\n",
            "72\n",
            "73\n",
            "74\n",
            "75\n",
            "76\n",
            "77\n",
            "78\n",
            "79\n",
            "80\n",
            "81\n",
            "82\n",
            "83\n",
            "84\n",
            "85\n",
            "86\n",
            "87\n",
            "88\n",
            "89\n",
            "90\n",
            "91\n",
            "92\n",
            "93\n",
            "94\n",
            "95\n",
            "96\n",
            "97\n",
            "98\n",
            "99\n",
            "100\n"
          ]
        }
      ]
    },
    {
      "cell_type": "code",
      "source": [
        "n = int(input(\"Enter the number:\"))\n",
        "for i in range ( 1 , 11):\n",
        "  print(i * n)"
      ],
      "metadata": {
        "colab": {
          "base_uri": "https://localhost:8080/"
        },
        "id": "aPpDSYaetR6B",
        "outputId": "7cc4142e-b265-49ea-edf6-af2199786017"
      },
      "execution_count": null,
      "outputs": [
        {
          "output_type": "stream",
          "name": "stdout",
          "text": [
            "Enter the number:3\n",
            "3\n",
            "6\n",
            "9\n",
            "12\n",
            "15\n",
            "18\n",
            "21\n",
            "24\n",
            "27\n",
            "30\n"
          ]
        }
      ]
    },
    {
      "cell_type": "markdown",
      "source": [
        "Number of sum"
      ],
      "metadata": {
        "id": "eiaYOw8swAct"
      }
    },
    {
      "cell_type": "code",
      "source": [
        "n = int(input(\"Enter the number:\"))\n",
        "sum = 0\n",
        "i = 1\n",
        "while i <= n:\n",
        "  sum += i\n",
        "  i += 1\n",
        "\n",
        "print(\"Total number of sum\", sum)"
      ],
      "metadata": {
        "colab": {
          "base_uri": "https://localhost:8080/"
        },
        "id": "o7IcPSHmuezs",
        "outputId": "850a75a9-584b-4503-818a-53b761ee52c5"
      },
      "execution_count": null,
      "outputs": [
        {
          "output_type": "stream",
          "name": "stdout",
          "text": [
            "Enter the number:5\n",
            "Total number of sum 15\n"
          ]
        }
      ]
    },
    {
      "cell_type": "markdown",
      "source": [
        "Function And **Reccursion**"
      ],
      "metadata": {
        "id": "FBkd2OTaFnFT"
      }
    },
    {
      "cell_type": "code",
      "source": [
        "def cal_sum(a,b):\n",
        "  sum = a+b\n",
        "  print(sum)\n",
        "\n",
        "cal_sum(2,2)\n",
        "cal_sum(10,12)\n"
      ],
      "metadata": {
        "colab": {
          "base_uri": "https://localhost:8080/"
        },
        "id": "nS-CkoVGFmi7",
        "outputId": "dca9fe0d-382a-466d-a91d-abcc45571f79"
      },
      "execution_count": null,
      "outputs": [
        {
          "output_type": "stream",
          "name": "stdout",
          "text": [
            "4\n",
            "22\n"
          ]
        }
      ]
    },
    {
      "cell_type": "markdown",
      "source": [
        "Average Getting **Code**"
      ],
      "metadata": {
        "id": "YzPQAPEZOgP9"
      }
    },
    {
      "cell_type": "code",
      "source": [
        "def cal_avg (a,b,c):\n",
        "  sum = a+b+c\n",
        "  avg = sum/3\n",
        "  print(avg)\n",
        "\n",
        "cal_avg(2,2,2)"
      ],
      "metadata": {
        "colab": {
          "base_uri": "https://localhost:8080/"
        },
        "id": "fO8Dmy9pMtqS",
        "outputId": "45404723-ecec-4811-a26e-c4cc98b34a0b"
      },
      "execution_count": null,
      "outputs": [
        {
          "output_type": "stream",
          "name": "stdout",
          "text": [
            "2.0\n"
          ]
        }
      ]
    },
    {
      "cell_type": "markdown",
      "source": [
        "**Practice**"
      ],
      "metadata": {
        "id": "g98dJtbgUd2a"
      }
    },
    {
      "cell_type": "code",
      "source": [
        "names = [\"Rohit\", \"Tushar\", \"Manish\", \"dev\",\"kabir\"]\n",
        "\n",
        "def print_len(list):\n",
        "  print(len(list))\n",
        "\n",
        "print(len(names))\n"
      ],
      "metadata": {
        "colab": {
          "base_uri": "https://localhost:8080/"
        },
        "id": "RBq8GQAEOkXM",
        "outputId": "cfb9d4ed-2491-42f9-dd42-af2c00a3ecc7"
      },
      "execution_count": null,
      "outputs": [
        {
          "output_type": "stream",
          "name": "stdout",
          "text": [
            "5\n"
          ]
        }
      ]
    },
    {
      "cell_type": "code",
      "source": [
        "names = [\"Rohit\", \"Tushar\", \"Manish\", \"dev\",\"kabir\"]\n",
        "\n",
        "def print_len(list):\n",
        "  print(len(list))\n",
        "  for item in list:\n",
        "    print(item , end = \"\")\n",
        "\n",
        "print(names)"
      ],
      "metadata": {
        "colab": {
          "base_uri": "https://localhost:8080/"
        },
        "id": "6KITErQcZYz_",
        "outputId": "074f35f5-0a31-418d-a87a-545b467b461f"
      },
      "execution_count": null,
      "outputs": [
        {
          "output_type": "stream",
          "name": "stdout",
          "text": [
            "['Rohit', 'Tushar', 'Manish', 'dev', 'kabir']\n"
          ]
        }
      ]
    },
    {
      "cell_type": "markdown",
      "source": [
        "USD to **INR**"
      ],
      "metadata": {
        "id": "SV8wqjPe8YaQ"
      }
    },
    {
      "cell_type": "code",
      "source": [
        "def converter (usd_value):\n",
        "  inr = usd_value*83\n",
        "  print(usd_value , \"USD :\", inr , \"INR\")\n",
        "\n",
        "converter(2)"
      ],
      "metadata": {
        "colab": {
          "base_uri": "https://localhost:8080/"
        },
        "id": "FhHE9EfAcL8s",
        "outputId": "46da57c3-6732-4a1d-fc0e-73d391138492"
      },
      "execution_count": 4,
      "outputs": [
        {
          "output_type": "stream",
          "name": "stdout",
          "text": [
            "2 USD : 166 INR\n"
          ]
        }
      ]
    },
    {
      "cell_type": "code",
      "source": [
        "def nums ( numbers):\n",
        "  if numbers %2 == 0:\n",
        "    print(\"even\")\n",
        "  else:\n",
        "    print(\"odd\")\n",
        "\n",
        "nums(4)"
      ],
      "metadata": {
        "colab": {
          "base_uri": "https://localhost:8080/"
        },
        "id": "bgv07afp8cGz",
        "outputId": "90308735-8e0b-4796-b947-5d2a6004e7a4"
      },
      "execution_count": 12,
      "outputs": [
        {
          "output_type": "stream",
          "name": "stdout",
          "text": [
            "even\n"
          ]
        }
      ]
    },
    {
      "cell_type": "markdown",
      "source": [
        "**Recuursion**"
      ],
      "metadata": {
        "id": "sLD2n28dMjQj"
      }
    },
    {
      "cell_type": "code",
      "source": [
        "def show(n):\n",
        "    if n == 0:\n",
        "        return  # This ensures the recursion stops when n reaches 0.\n",
        "    print(n)\n",
        "    show(n-1)  # Recursive call to decrement n and continue.\n",
        "\n",
        "show(5)\n"
      ],
      "metadata": {
        "colab": {
          "base_uri": "https://localhost:8080/"
        },
        "id": "q75OKCQ6Mifh",
        "outputId": "0d5c6ecb-56e8-4e89-b37c-0fdbe50475bc"
      },
      "execution_count": 24,
      "outputs": [
        {
          "output_type": "stream",
          "name": "stdout",
          "text": [
            "5\n",
            "4\n",
            "3\n",
            "2\n",
            "1\n"
          ]
        }
      ]
    },
    {
      "cell_type": "code",
      "source": [
        "def fact(n):\n",
        "  if n == 0 or n == 1:\n",
        "    return 1\n",
        "  return fact (n-1) * n\n",
        "\n",
        "print(fact(5))\n",
        "\n",
        "\n"
      ],
      "metadata": {
        "colab": {
          "base_uri": "https://localhost:8080/"
        },
        "id": "OoztnGDYP5Ol",
        "outputId": "8301f641-1e49-48d3-d734-07886fb5370a"
      },
      "execution_count": 26,
      "outputs": [
        {
          "output_type": "stream",
          "name": "stdout",
          "text": [
            "120\n"
          ]
        }
      ]
    },
    {
      "cell_type": "markdown",
      "source": [
        "First N natural Number **Sum**"
      ],
      "metadata": {
        "id": "rlWq_d3dUZmm"
      }
    },
    {
      "cell_type": "code",
      "source": [
        "def natural(n):\n",
        "  if n == 0:\n",
        "    return\n",
        "  return n*(n+1)//2\n",
        "\n",
        "print(natural(10))"
      ],
      "metadata": {
        "colab": {
          "base_uri": "https://localhost:8080/"
        },
        "id": "th-JFbN0Snws",
        "outputId": "18747757-d866-4ba4-f1c0-b97c328ef131"
      },
      "execution_count": 31,
      "outputs": [
        {
          "output_type": "stream",
          "name": "stdout",
          "text": [
            "55\n"
          ]
        }
      ]
    },
    {
      "cell_type": "code",
      "source": [
        "def print_elements(lst, index=0):\n",
        "    # Base case: if the index is equal to the length of the list, return\n",
        "    if index == len(lst):\n",
        "        return\n",
        "    # Print the current element\n",
        "    print(lst[index])\n",
        "    # Recursive call to print the next element\n",
        "    print_elements(lst, index + 1)\n",
        "\n",
        "# Example usage\n",
        "my_list = [1, 2, 3, 4, 5]\n",
        "print_elements(my_list)\n"
      ],
      "metadata": {
        "colab": {
          "base_uri": "https://localhost:8080/"
        },
        "id": "Bmo3b_2rUfef",
        "outputId": "0c859f1d-730f-4333-bca4-0e1f4ba76e31"
      },
      "execution_count": 32,
      "outputs": [
        {
          "output_type": "stream",
          "name": "stdout",
          "text": [
            "1\n",
            "2\n",
            "3\n",
            "4\n",
            "5\n"
          ]
        }
      ]
    }
  ]
}